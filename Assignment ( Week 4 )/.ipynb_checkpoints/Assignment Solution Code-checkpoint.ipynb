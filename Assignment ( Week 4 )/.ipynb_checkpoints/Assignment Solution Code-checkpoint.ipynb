{
 "cells": [
  {
   "cell_type": "code",
   "execution_count": 1,
   "id": "eeaf1f73",
   "metadata": {},
   "outputs": [],
   "source": [
    "# Bayes Theorem \n",
    "\n",
    "# P(A|B) = P(B|A)P(A)/P(B)\n",
    "# where, P(A|B) is the probability of condition when event A is occurring while event B has already occurred(posterior prob.).\n",
    "#        P(B|A): It represents the probability of event B occurring given that event A has occurred(likelihood).\n",
    "#        P(A): It represents the initial probability of event A occurring without any additional information(prior probability).\n",
    "#        P(B):It represents the total probability of event B occurring, considering all possible ways that B can happen (whether A happens or not)."
   ]
  },
  {
   "cell_type": "code",
   "execution_count": 7,
   "id": "52439736",
   "metadata": {},
   "outputs": [
    {
     "name": "stdout",
     "output_type": "stream",
     "text": [
      "Enter the value of P(B|A) : 1\n",
      "Enter the value of P(A) : 1\n",
      "Enter the value of P(B) : 1\n",
      "The Posterior Probability[ P(A|B) ] is :  1.0\n"
     ]
    }
   ],
   "source": [
    "# Code to calculate the Bayes Theorem\n",
    "\n",
    "def bayesTheorem(ba,a,b):\n",
    "    res=(ba*a)/b\n",
    "    print(\"The Posterior Probability [ P(A|B) ] is : \",res)\n",
    "\n",
    "# Input \n",
    "ba=float(input(\"Enter the value of P(B|A) : \"))\n",
    "a=float(input(\"Enter the value of P(A) : \"))\n",
    "b=float(input(\"Enter the value of P(B) : \"))\n",
    "\n",
    "bayesTheorem(ba,a,b)"
   ]
  },
  {
   "cell_type": "code",
   "execution_count": 8,
   "id": "8fa2a50a",
   "metadata": {},
   "outputs": [],
   "source": [
    "# 3 x 3 Matrix\n",
    "\n",
    "matrix=[[1,2,3],[4,5,6],[7,8,9]]"
   ]
  },
  {
   "cell_type": "code",
   "execution_count": null,
   "id": "e8b8f863",
   "metadata": {},
   "outputs": [],
   "source": []
  }
 ],
 "metadata": {
  "kernelspec": {
   "display_name": "Python 3 (ipykernel)",
   "language": "python",
   "name": "python3"
  },
  "language_info": {
   "codemirror_mode": {
    "name": "ipython",
    "version": 3
   },
   "file_extension": ".py",
   "mimetype": "text/x-python",
   "name": "python",
   "nbconvert_exporter": "python",
   "pygments_lexer": "ipython3",
   "version": "3.9.1"
  }
 },
 "nbformat": 4,
 "nbformat_minor": 5
}
