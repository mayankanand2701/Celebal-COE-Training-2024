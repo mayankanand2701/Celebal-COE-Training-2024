{
 "cells": [
  {
   "cell_type": "markdown",
   "id": "d816354d",
   "metadata": {},
   "source": [
    "### Credentials\n",
    "\n",
    "#### Name : Mayank Anand\n",
    "#### Registration Number : 2141001045\n",
    "#### E-mail : mayankanand2701@gmail.com"
   ]
  },
  {
   "cell_type": "markdown",
   "id": "76e2532e",
   "metadata": {},
   "source": [
    "###  Code to calculate the Bayes Theorem"
   ]
  },
  {
   "cell_type": "code",
   "execution_count": 36,
   "id": "52439736",
   "metadata": {},
   "outputs": [
    {
     "name": "stdout",
     "output_type": "stream",
     "text": [
      "Enter the value of P(B|A) : 3\n",
      "Enter the value of P(A) : 4\n",
      "Enter the value of P(B) : 5\n",
      "The Posterior Probability [ P(A|B) ] is :  2.4\n"
     ]
    }
   ],
   "source": [
    "def bayesTheorem(ba,a,b):\n",
    "    res=(ba*a)/b\n",
    "    print(\"The Posterior Probability [ P(A|B) ] is : \",res)\n",
    "\n",
    "# Input \n",
    "\n",
    "ba=float(input(\"Enter the value of P(B|A) : \"))\n",
    "a=float(input(\"Enter the value of P(A) : \"))\n",
    "b=float(input(\"Enter the value of P(B) : \"))\n",
    "\n",
    "bayesTheorem(ba,a,b)"
   ]
  },
  {
   "cell_type": "markdown",
   "id": "2785e11c",
   "metadata": {},
   "source": [
    "### Code to calculate Eigen Value and Eigen Vector of a Matrix"
   ]
  },
  {
   "cell_type": "code",
   "execution_count": 37,
   "id": "9b16fcd0",
   "metadata": {},
   "outputs": [],
   "source": [
    "import numpy as np"
   ]
  },
  {
   "cell_type": "code",
   "execution_count": 38,
   "id": "fea6cc42",
   "metadata": {},
   "outputs": [],
   "source": [
    "# 3 x 3 Matrix\n",
    "\n",
    "matrix=[[1,2,3],[4,5,6],[7,8,9]]\n",
    "\n",
    "array=np.array(matrix)\n",
    "x,y=np.linalg.eig(array) "
   ]
  },
  {
   "cell_type": "code",
   "execution_count": 39,
   "id": "b11b1868",
   "metadata": {},
   "outputs": [
    {
     "name": "stdout",
     "output_type": "stream",
     "text": [
      "Eigen Values of the given Matrix is :\n",
      " [ 1.61168440e+01 -1.11684397e+00 -1.30367773e-15]\n"
     ]
    }
   ],
   "source": [
    "# to print eigen values \n",
    "\n",
    "print(\"Eigen Values of the given Matrix is :\\n\",x) "
   ]
  },
  {
   "cell_type": "code",
   "execution_count": 40,
   "id": "e8ae4d0f",
   "metadata": {},
   "outputs": [
    {
     "name": "stdout",
     "output_type": "stream",
     "text": [
      "Eigen Vectors of the given Matrix is :\n",
      " [[-0.23197069 -0.78583024  0.40824829]\n",
      " [-0.52532209 -0.08675134 -0.81649658]\n",
      " [-0.8186735   0.61232756  0.40824829]]\n"
     ]
    }
   ],
   "source": [
    "# to print eigen vectors\n",
    "\n",
    "print(\"Eigen Vectors of the given Matrix is :\\n\",y)"
   ]
  },
  {
   "cell_type": "markdown",
   "id": "e1262dbd",
   "metadata": {},
   "source": [
    "### Code to calculate Determinant of a Matrix"
   ]
  },
  {
   "cell_type": "code",
   "execution_count": 41,
   "id": "286f37b8",
   "metadata": {},
   "outputs": [
    {
     "name": "stdout",
     "output_type": "stream",
     "text": [
      "Determinant of the given Matrix is :  -36.0\n"
     ]
    }
   ],
   "source": [
    "matrix=[[1,2,3],[4,5,6],[7,2,9]]\n",
    "array=np.array(matrix)\n",
    "\n",
    "det = np.linalg.det(array) \n",
    "\n",
    "# to print the determinant\n",
    "print(\"Determinant of the given Matrix is : \",det) "
   ]
  },
  {
   "cell_type": "markdown",
   "id": "aa2d887f",
   "metadata": {},
   "source": [
    "### Code to calculate the Inverse of a Matrix"
   ]
  },
  {
   "cell_type": "code",
   "execution_count": 42,
   "id": "3b7735a2",
   "metadata": {},
   "outputs": [
    {
     "name": "stdout",
     "output_type": "stream",
     "text": [
      "[[-0.91666667  0.33333333  0.08333333]\n",
      " [-0.16666667  0.33333333 -0.16666667]\n",
      " [ 0.75       -0.33333333  0.08333333]]\n"
     ]
    }
   ],
   "source": [
    "matrix=[[1,2,3],[4,5,6],[7,2,9]]\n",
    "array=np.array(matrix)\n",
    "\n",
    "det = np.linalg.det(array) \n",
    "\n",
    "if det==0:\n",
    "    print(\"Inverse do not exist for the given matrix.\")\n",
    "else:\n",
    "    print(np.linalg.inv(array))"
   ]
  }
 ],
 "metadata": {
  "kernelspec": {
   "display_name": "Python 3 (ipykernel)",
   "language": "python",
   "name": "python3"
  },
  "language_info": {
   "codemirror_mode": {
    "name": "ipython",
    "version": 3
   },
   "file_extension": ".py",
   "mimetype": "text/x-python",
   "name": "python",
   "nbconvert_exporter": "python",
   "pygments_lexer": "ipython3",
   "version": "3.9.1"
  }
 },
 "nbformat": 4,
 "nbformat_minor": 5
}
