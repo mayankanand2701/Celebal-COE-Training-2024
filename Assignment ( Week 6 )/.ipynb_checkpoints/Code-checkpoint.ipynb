{
 "cells": [
  {
   "cell_type": "markdown",
   "id": "bab523da",
   "metadata": {},
   "source": [
    "### Credential's"
   ]
  },
  {
   "cell_type": "markdown",
   "id": "68d4b384",
   "metadata": {},
   "source": [
    "#### Name : Mayank Anand\n",
    "#### Registration Number : 2141001045   "
   ]
  },
  {
   "cell_type": "code",
   "execution_count": 71,
   "id": "fa0f8e1e",
   "metadata": {},
   "outputs": [],
   "source": [
    "# Importing the required libraries\n",
    "\n",
    "import numpy as np\n",
    "import pandas as pd\n",
    "import matplotlib.pyplot as plt"
   ]
  },
  {
   "cell_type": "code",
   "execution_count": 72,
   "id": "cf185285",
   "metadata": {},
   "outputs": [],
   "source": [
    "# To load the dataset\n",
    "\n",
    "df=pd.read_csv(\"Heart Attack Dataset.csv\")"
   ]
  },
  {
   "cell_type": "markdown",
   "id": "2e70b0bd",
   "metadata": {},
   "source": [
    "### Exploratory Data Analysis (EDA)"
   ]
  },
  {
   "cell_type": "code",
   "execution_count": 73,
   "id": "aad40af3",
   "metadata": {},
   "outputs": [
    {
     "data": {
      "text/html": [
       "<div>\n",
       "<style scoped>\n",
       "    .dataframe tbody tr th:only-of-type {\n",
       "        vertical-align: middle;\n",
       "    }\n",
       "\n",
       "    .dataframe tbody tr th {\n",
       "        vertical-align: top;\n",
       "    }\n",
       "\n",
       "    .dataframe thead th {\n",
       "        text-align: right;\n",
       "    }\n",
       "</style>\n",
       "<table border=\"1\" class=\"dataframe\">\n",
       "  <thead>\n",
       "    <tr style=\"text-align: right;\">\n",
       "      <th></th>\n",
       "      <th>Gender</th>\n",
       "      <th>Age</th>\n",
       "      <th>Blood Pressure (mmHg)</th>\n",
       "      <th>Cholesterol (mg/dL)</th>\n",
       "      <th>Has Diabetes</th>\n",
       "      <th>Smoking Status</th>\n",
       "      <th>Chest Pain Type</th>\n",
       "      <th>Treatment</th>\n",
       "    </tr>\n",
       "  </thead>\n",
       "  <tbody>\n",
       "    <tr>\n",
       "      <th>0</th>\n",
       "      <td>Male</td>\n",
       "      <td>70</td>\n",
       "      <td>181</td>\n",
       "      <td>262</td>\n",
       "      <td>No</td>\n",
       "      <td>Never</td>\n",
       "      <td>Typical Angina</td>\n",
       "      <td>Lifestyle Changes</td>\n",
       "    </tr>\n",
       "    <tr>\n",
       "      <th>1</th>\n",
       "      <td>Female</td>\n",
       "      <td>55</td>\n",
       "      <td>103</td>\n",
       "      <td>253</td>\n",
       "      <td>Yes</td>\n",
       "      <td>Never</td>\n",
       "      <td>Atypical Angina</td>\n",
       "      <td>Angioplasty</td>\n",
       "    </tr>\n",
       "    <tr>\n",
       "      <th>2</th>\n",
       "      <td>Male</td>\n",
       "      <td>42</td>\n",
       "      <td>95</td>\n",
       "      <td>295</td>\n",
       "      <td>Yes</td>\n",
       "      <td>Current</td>\n",
       "      <td>Typical Angina</td>\n",
       "      <td>Angioplasty</td>\n",
       "    </tr>\n",
       "    <tr>\n",
       "      <th>3</th>\n",
       "      <td>Male</td>\n",
       "      <td>84</td>\n",
       "      <td>106</td>\n",
       "      <td>270</td>\n",
       "      <td>No</td>\n",
       "      <td>Never</td>\n",
       "      <td>Atypical Angina</td>\n",
       "      <td>Coronary Artery Bypass Graft (CABG)</td>\n",
       "    </tr>\n",
       "    <tr>\n",
       "      <th>4</th>\n",
       "      <td>Male</td>\n",
       "      <td>86</td>\n",
       "      <td>187</td>\n",
       "      <td>296</td>\n",
       "      <td>Yes</td>\n",
       "      <td>Current</td>\n",
       "      <td>Non-anginal Pain</td>\n",
       "      <td>Medication</td>\n",
       "    </tr>\n",
       "    <tr>\n",
       "      <th>5</th>\n",
       "      <td>Female</td>\n",
       "      <td>66</td>\n",
       "      <td>125</td>\n",
       "      <td>271</td>\n",
       "      <td>Yes</td>\n",
       "      <td>Former</td>\n",
       "      <td>Typical Angina</td>\n",
       "      <td>Coronary Artery Bypass Graft (CABG)</td>\n",
       "    </tr>\n",
       "    <tr>\n",
       "      <th>6</th>\n",
       "      <td>Male</td>\n",
       "      <td>33</td>\n",
       "      <td>181</td>\n",
       "      <td>262</td>\n",
       "      <td>Yes</td>\n",
       "      <td>Current</td>\n",
       "      <td>Asymptomatic</td>\n",
       "      <td>Lifestyle Changes</td>\n",
       "    </tr>\n",
       "    <tr>\n",
       "      <th>7</th>\n",
       "      <td>Male</td>\n",
       "      <td>84</td>\n",
       "      <td>182</td>\n",
       "      <td>288</td>\n",
       "      <td>No</td>\n",
       "      <td>Current</td>\n",
       "      <td>Non-anginal Pain</td>\n",
       "      <td>Lifestyle Changes</td>\n",
       "    </tr>\n",
       "    <tr>\n",
       "      <th>8</th>\n",
       "      <td>Male</td>\n",
       "      <td>73</td>\n",
       "      <td>115</td>\n",
       "      <td>286</td>\n",
       "      <td>Yes</td>\n",
       "      <td>Never</td>\n",
       "      <td>Asymptomatic</td>\n",
       "      <td>Angioplasty</td>\n",
       "    </tr>\n",
       "    <tr>\n",
       "      <th>9</th>\n",
       "      <td>Female</td>\n",
       "      <td>63</td>\n",
       "      <td>174</td>\n",
       "      <td>254</td>\n",
       "      <td>Yes</td>\n",
       "      <td>Former</td>\n",
       "      <td>Non-anginal Pain</td>\n",
       "      <td>Angioplasty</td>\n",
       "    </tr>\n",
       "  </tbody>\n",
       "</table>\n",
       "</div>"
      ],
      "text/plain": [
       "   Gender  Age  Blood Pressure (mmHg)  Cholesterol (mg/dL) Has Diabetes  \\\n",
       "0    Male   70                    181                  262           No   \n",
       "1  Female   55                    103                  253          Yes   \n",
       "2    Male   42                     95                  295          Yes   \n",
       "3    Male   84                    106                  270           No   \n",
       "4    Male   86                    187                  296          Yes   \n",
       "5  Female   66                    125                  271          Yes   \n",
       "6    Male   33                    181                  262          Yes   \n",
       "7    Male   84                    182                  288           No   \n",
       "8    Male   73                    115                  286          Yes   \n",
       "9  Female   63                    174                  254          Yes   \n",
       "\n",
       "  Smoking Status   Chest Pain Type                            Treatment  \n",
       "0          Never    Typical Angina                    Lifestyle Changes  \n",
       "1          Never   Atypical Angina                          Angioplasty  \n",
       "2        Current    Typical Angina                          Angioplasty  \n",
       "3          Never   Atypical Angina  Coronary Artery Bypass Graft (CABG)  \n",
       "4        Current  Non-anginal Pain                           Medication  \n",
       "5         Former    Typical Angina  Coronary Artery Bypass Graft (CABG)  \n",
       "6        Current      Asymptomatic                    Lifestyle Changes  \n",
       "7        Current  Non-anginal Pain                    Lifestyle Changes  \n",
       "8          Never      Asymptomatic                          Angioplasty  \n",
       "9         Former  Non-anginal Pain                          Angioplasty  "
      ]
     },
     "execution_count": 73,
     "metadata": {},
     "output_type": "execute_result"
    }
   ],
   "source": [
    "# To see first 10 columns of the dataset\n",
    "\n",
    "df.head(10)"
   ]
  },
  {
   "cell_type": "code",
   "execution_count": 74,
   "id": "fb3e0c17",
   "metadata": {},
   "outputs": [
    {
     "data": {
      "text/html": [
       "<div>\n",
       "<style scoped>\n",
       "    .dataframe tbody tr th:only-of-type {\n",
       "        vertical-align: middle;\n",
       "    }\n",
       "\n",
       "    .dataframe tbody tr th {\n",
       "        vertical-align: top;\n",
       "    }\n",
       "\n",
       "    .dataframe thead th {\n",
       "        text-align: right;\n",
       "    }\n",
       "</style>\n",
       "<table border=\"1\" class=\"dataframe\">\n",
       "  <thead>\n",
       "    <tr style=\"text-align: right;\">\n",
       "      <th></th>\n",
       "      <th>Gender</th>\n",
       "      <th>Age</th>\n",
       "      <th>Blood Pressure (mmHg)</th>\n",
       "      <th>Cholesterol (mg/dL)</th>\n",
       "      <th>Has Diabetes</th>\n",
       "      <th>Smoking Status</th>\n",
       "      <th>Chest Pain Type</th>\n",
       "      <th>Treatment</th>\n",
       "    </tr>\n",
       "  </thead>\n",
       "  <tbody>\n",
       "    <tr>\n",
       "      <th>990</th>\n",
       "      <td>Female</td>\n",
       "      <td>85</td>\n",
       "      <td>168</td>\n",
       "      <td>208</td>\n",
       "      <td>Yes</td>\n",
       "      <td>Never</td>\n",
       "      <td>Asymptomatic</td>\n",
       "      <td>Lifestyle Changes</td>\n",
       "    </tr>\n",
       "    <tr>\n",
       "      <th>991</th>\n",
       "      <td>Female</td>\n",
       "      <td>72</td>\n",
       "      <td>194</td>\n",
       "      <td>181</td>\n",
       "      <td>No</td>\n",
       "      <td>Never</td>\n",
       "      <td>Non-anginal Pain</td>\n",
       "      <td>Lifestyle Changes</td>\n",
       "    </tr>\n",
       "    <tr>\n",
       "      <th>992</th>\n",
       "      <td>Female</td>\n",
       "      <td>77</td>\n",
       "      <td>90</td>\n",
       "      <td>276</td>\n",
       "      <td>Yes</td>\n",
       "      <td>Never</td>\n",
       "      <td>Non-anginal Pain</td>\n",
       "      <td>Coronary Artery Bypass Graft (CABG)</td>\n",
       "    </tr>\n",
       "    <tr>\n",
       "      <th>993</th>\n",
       "      <td>Female</td>\n",
       "      <td>77</td>\n",
       "      <td>198</td>\n",
       "      <td>268</td>\n",
       "      <td>Yes</td>\n",
       "      <td>Never</td>\n",
       "      <td>Asymptomatic</td>\n",
       "      <td>Medication</td>\n",
       "    </tr>\n",
       "    <tr>\n",
       "      <th>994</th>\n",
       "      <td>Female</td>\n",
       "      <td>51</td>\n",
       "      <td>107</td>\n",
       "      <td>217</td>\n",
       "      <td>Yes</td>\n",
       "      <td>Former</td>\n",
       "      <td>Non-anginal Pain</td>\n",
       "      <td>Medication</td>\n",
       "    </tr>\n",
       "    <tr>\n",
       "      <th>995</th>\n",
       "      <td>Male</td>\n",
       "      <td>42</td>\n",
       "      <td>125</td>\n",
       "      <td>193</td>\n",
       "      <td>Yes</td>\n",
       "      <td>Current</td>\n",
       "      <td>Typical Angina</td>\n",
       "      <td>Angioplasty</td>\n",
       "    </tr>\n",
       "    <tr>\n",
       "      <th>996</th>\n",
       "      <td>Male</td>\n",
       "      <td>80</td>\n",
       "      <td>186</td>\n",
       "      <td>267</td>\n",
       "      <td>Yes</td>\n",
       "      <td>Never</td>\n",
       "      <td>Atypical Angina</td>\n",
       "      <td>Coronary Artery Bypass Graft (CABG)</td>\n",
       "    </tr>\n",
       "    <tr>\n",
       "      <th>997</th>\n",
       "      <td>Female</td>\n",
       "      <td>64</td>\n",
       "      <td>108</td>\n",
       "      <td>174</td>\n",
       "      <td>Yes</td>\n",
       "      <td>Current</td>\n",
       "      <td>Non-anginal Pain</td>\n",
       "      <td>Coronary Artery Bypass Graft (CABG)</td>\n",
       "    </tr>\n",
       "    <tr>\n",
       "      <th>998</th>\n",
       "      <td>Female</td>\n",
       "      <td>84</td>\n",
       "      <td>123</td>\n",
       "      <td>195</td>\n",
       "      <td>No</td>\n",
       "      <td>Current</td>\n",
       "      <td>Asymptomatic</td>\n",
       "      <td>Lifestyle Changes</td>\n",
       "    </tr>\n",
       "    <tr>\n",
       "      <th>999</th>\n",
       "      <td>Male</td>\n",
       "      <td>61</td>\n",
       "      <td>155</td>\n",
       "      <td>197</td>\n",
       "      <td>No</td>\n",
       "      <td>Former</td>\n",
       "      <td>Atypical Angina</td>\n",
       "      <td>Lifestyle Changes</td>\n",
       "    </tr>\n",
       "  </tbody>\n",
       "</table>\n",
       "</div>"
      ],
      "text/plain": [
       "     Gender  Age  Blood Pressure (mmHg)  Cholesterol (mg/dL) Has Diabetes  \\\n",
       "990  Female   85                    168                  208          Yes   \n",
       "991  Female   72                    194                  181           No   \n",
       "992  Female   77                     90                  276          Yes   \n",
       "993  Female   77                    198                  268          Yes   \n",
       "994  Female   51                    107                  217          Yes   \n",
       "995    Male   42                    125                  193          Yes   \n",
       "996    Male   80                    186                  267          Yes   \n",
       "997  Female   64                    108                  174          Yes   \n",
       "998  Female   84                    123                  195           No   \n",
       "999    Male   61                    155                  197           No   \n",
       "\n",
       "    Smoking Status   Chest Pain Type                            Treatment  \n",
       "990          Never      Asymptomatic                    Lifestyle Changes  \n",
       "991          Never  Non-anginal Pain                    Lifestyle Changes  \n",
       "992          Never  Non-anginal Pain  Coronary Artery Bypass Graft (CABG)  \n",
       "993          Never      Asymptomatic                           Medication  \n",
       "994         Former  Non-anginal Pain                           Medication  \n",
       "995        Current    Typical Angina                          Angioplasty  \n",
       "996          Never   Atypical Angina  Coronary Artery Bypass Graft (CABG)  \n",
       "997        Current  Non-anginal Pain  Coronary Artery Bypass Graft (CABG)  \n",
       "998        Current      Asymptomatic                    Lifestyle Changes  \n",
       "999         Former   Atypical Angina                    Lifestyle Changes  "
      ]
     },
     "execution_count": 74,
     "metadata": {},
     "output_type": "execute_result"
    }
   ],
   "source": [
    "# To see last 10 columns of the dataset\n",
    "\n",
    "df.tail(10)"
   ]
  },
  {
   "cell_type": "code",
   "execution_count": 75,
   "id": "94590fe3",
   "metadata": {},
   "outputs": [
    {
     "data": {
      "text/plain": [
       "(1000, 8)"
      ]
     },
     "execution_count": 75,
     "metadata": {},
     "output_type": "execute_result"
    }
   ],
   "source": [
    "# To know the shape of the dataset\n",
    "\n",
    "df.shape"
   ]
  },
  {
   "cell_type": "code",
   "execution_count": 76,
   "id": "6395ddfe",
   "metadata": {},
   "outputs": [
    {
     "name": "stdout",
     "output_type": "stream",
     "text": [
      "<class 'pandas.core.frame.DataFrame'>\n",
      "RangeIndex: 1000 entries, 0 to 999\n",
      "Data columns (total 8 columns):\n",
      " #   Column                 Non-Null Count  Dtype \n",
      "---  ------                 --------------  ----- \n",
      " 0   Gender                 1000 non-null   object\n",
      " 1   Age                    1000 non-null   int64 \n",
      " 2   Blood Pressure (mmHg)  1000 non-null   int64 \n",
      " 3   Cholesterol (mg/dL)    1000 non-null   int64 \n",
      " 4   Has Diabetes           1000 non-null   object\n",
      " 5   Smoking Status         1000 non-null   object\n",
      " 6   Chest Pain Type        1000 non-null   object\n",
      " 7   Treatment              1000 non-null   object\n",
      "dtypes: int64(3), object(5)\n",
      "memory usage: 62.6+ KB\n"
     ]
    }
   ],
   "source": [
    "# To get overall preview about the dataframe\n",
    "\n",
    "df.info()"
   ]
  },
  {
   "cell_type": "code",
   "execution_count": 77,
   "id": "cd76d831",
   "metadata": {},
   "outputs": [
    {
     "data": {
      "text/plain": [
       "Index(['Gender', 'Age', 'Blood Pressure (mmHg)', 'Cholesterol (mg/dL)',\n",
       "       'Has Diabetes', 'Smoking Status', 'Chest Pain Type', 'Treatment'],\n",
       "      dtype='object')"
      ]
     },
     "execution_count": 77,
     "metadata": {},
     "output_type": "execute_result"
    }
   ],
   "source": [
    "# To know all the column names of the dataset\n",
    "\n",
    "df.columns"
   ]
  },
  {
   "cell_type": "code",
   "execution_count": 78,
   "id": "d38aa3cc",
   "metadata": {},
   "outputs": [
    {
     "data": {
      "text/html": [
       "<div>\n",
       "<style scoped>\n",
       "    .dataframe tbody tr th:only-of-type {\n",
       "        vertical-align: middle;\n",
       "    }\n",
       "\n",
       "    .dataframe tbody tr th {\n",
       "        vertical-align: top;\n",
       "    }\n",
       "\n",
       "    .dataframe thead th {\n",
       "        text-align: right;\n",
       "    }\n",
       "</style>\n",
       "<table border=\"1\" class=\"dataframe\">\n",
       "  <thead>\n",
       "    <tr style=\"text-align: right;\">\n",
       "      <th></th>\n",
       "      <th>Age</th>\n",
       "      <th>Blood Pressure (mmHg)</th>\n",
       "      <th>Cholesterol (mg/dL)</th>\n",
       "    </tr>\n",
       "  </thead>\n",
       "  <tbody>\n",
       "    <tr>\n",
       "      <th>count</th>\n",
       "      <td>1000.000000</td>\n",
       "      <td>1000.000000</td>\n",
       "      <td>1000.000000</td>\n",
       "    </tr>\n",
       "    <tr>\n",
       "      <th>mean</th>\n",
       "      <td>60.338000</td>\n",
       "      <td>145.440000</td>\n",
       "      <td>223.789000</td>\n",
       "    </tr>\n",
       "    <tr>\n",
       "      <th>std</th>\n",
       "      <td>17.317496</td>\n",
       "      <td>31.756525</td>\n",
       "      <td>42.787817</td>\n",
       "    </tr>\n",
       "    <tr>\n",
       "      <th>min</th>\n",
       "      <td>30.000000</td>\n",
       "      <td>90.000000</td>\n",
       "      <td>150.000000</td>\n",
       "    </tr>\n",
       "    <tr>\n",
       "      <th>25%</th>\n",
       "      <td>45.000000</td>\n",
       "      <td>118.000000</td>\n",
       "      <td>185.000000</td>\n",
       "    </tr>\n",
       "    <tr>\n",
       "      <th>50%</th>\n",
       "      <td>60.500000</td>\n",
       "      <td>146.000000</td>\n",
       "      <td>225.500000</td>\n",
       "    </tr>\n",
       "    <tr>\n",
       "      <th>75%</th>\n",
       "      <td>76.000000</td>\n",
       "      <td>173.000000</td>\n",
       "      <td>259.000000</td>\n",
       "    </tr>\n",
       "    <tr>\n",
       "      <th>max</th>\n",
       "      <td>89.000000</td>\n",
       "      <td>199.000000</td>\n",
       "      <td>299.000000</td>\n",
       "    </tr>\n",
       "  </tbody>\n",
       "</table>\n",
       "</div>"
      ],
      "text/plain": [
       "               Age  Blood Pressure (mmHg)  Cholesterol (mg/dL)\n",
       "count  1000.000000            1000.000000          1000.000000\n",
       "mean     60.338000             145.440000           223.789000\n",
       "std      17.317496              31.756525            42.787817\n",
       "min      30.000000              90.000000           150.000000\n",
       "25%      45.000000             118.000000           185.000000\n",
       "50%      60.500000             146.000000           225.500000\n",
       "75%      76.000000             173.000000           259.000000\n",
       "max      89.000000             199.000000           299.000000"
      ]
     },
     "execution_count": 78,
     "metadata": {},
     "output_type": "execute_result"
    }
   ],
   "source": [
    "# To generate descriptive statistics of the dataset \n",
    "\n",
    "df.describe()"
   ]
  },
  {
   "cell_type": "code",
   "execution_count": 79,
   "id": "1fc4cdf0",
   "metadata": {},
   "outputs": [
    {
     "data": {
      "text/plain": [
       "Gender                   object\n",
       "Age                       int64\n",
       "Blood Pressure (mmHg)     int64\n",
       "Cholesterol (mg/dL)       int64\n",
       "Has Diabetes             object\n",
       "Smoking Status           object\n",
       "Chest Pain Type          object\n",
       "Treatment                object\n",
       "dtype: object"
      ]
     },
     "execution_count": 79,
     "metadata": {},
     "output_type": "execute_result"
    }
   ],
   "source": [
    "# To know the datatype of each dataset\n",
    "\n",
    "df.dtypes"
   ]
  },
  {
   "cell_type": "code",
   "execution_count": 105,
   "id": "35d14463",
   "metadata": {},
   "outputs": [
    {
     "data": {
      "text/plain": [
       "Female    510\n",
       "Male      490\n",
       "Name: Gender, dtype: int64"
      ]
     },
     "execution_count": 105,
     "metadata": {},
     "output_type": "execute_result"
    }
   ],
   "source": [
    "# To know the how many male and female patients are present\n",
    "\n",
    "genderCount=df['Gender'].value_counts()\n",
    "genderCount"
   ]
  },
  {
   "cell_type": "code",
   "execution_count": 106,
   "id": "4176a875",
   "metadata": {},
   "outputs": [
    {
     "data": {
      "text/plain": [
       "Yes    517\n",
       "No     483\n",
       "Name: Has Diabetes, dtype: int64"
      ]
     },
     "execution_count": 106,
     "metadata": {},
     "output_type": "execute_result"
    }
   ],
   "source": [
    "# To know the count of patients with Diabetes or not\n",
    "\n",
    "hasDiabetesCount=df['Has Diabetes'].value_counts()\n",
    "hasDiabetesCount"
   ]
  },
  {
   "cell_type": "code",
   "execution_count": 107,
   "id": "d2f1bbc3",
   "metadata": {},
   "outputs": [
    {
     "data": {
      "text/plain": [
       "Never      352\n",
       "Current    325\n",
       "Former     323\n",
       "Name: Smoking Status, dtype: int64"
      ]
     },
     "execution_count": 107,
     "metadata": {},
     "output_type": "execute_result"
    }
   ],
   "source": [
    "# To know the count of patients with somoking habit or not\n",
    "\n",
    "hasSomkingHabitCount=df['Smoking Status'].value_counts()\n",
    "hasSomkingHabitCount"
   ]
  },
  {
   "cell_type": "code",
   "execution_count": 108,
   "id": "8d12a6dc",
   "metadata": {},
   "outputs": [
    {
     "data": {
      "text/plain": [
       "Non-anginal Pain    261\n",
       "Asymptomatic        255\n",
       "Typical Angina      243\n",
       "Atypical Angina     241\n",
       "Name: Chest Pain Type, dtype: int64"
      ]
     },
     "execution_count": 108,
     "metadata": {},
     "output_type": "execute_result"
    }
   ],
   "source": [
    "# To know the count of type of Chest Pain of patient's\n",
    "\n",
    "hasChestPainCount=df['Chest Pain Type'].value_counts()\n",
    "hasChestPainCount"
   ]
  },
  {
   "cell_type": "code",
   "execution_count": 110,
   "id": "82609836",
   "metadata": {},
   "outputs": [
    {
     "data": {
      "text/plain": [
       "Lifestyle Changes                      269\n",
       "Coronary Artery Bypass Graft (CABG)    252\n",
       "Angioplasty                            247\n",
       "Medication                             232\n",
       "Name: Treatment, dtype: int64"
      ]
     },
     "execution_count": 110,
     "metadata": {},
     "output_type": "execute_result"
    }
   ],
   "source": [
    "# To know count of type of treatment recieved by patient\n",
    "\n",
    "hasTreatmentCount=df['Treatment'].value_counts()\n",
    "hasTreatmentCount"
   ]
  },
  {
   "cell_type": "markdown",
   "id": "548c0bec",
   "metadata": {},
   "source": [
    "### Data Cleaning and Encoding Categorical Columns"
   ]
  },
  {
   "cell_type": "code",
   "execution_count": 85,
   "id": "23214bb4",
   "metadata": {},
   "outputs": [
    {
     "data": {
      "text/plain": [
       "Gender                   0\n",
       "Age                      0\n",
       "Blood Pressure (mmHg)    0\n",
       "Cholesterol (mg/dL)      0\n",
       "Has Diabetes             0\n",
       "Smoking Status           0\n",
       "Chest Pain Type          0\n",
       "Treatment                0\n",
       "dtype: int64"
      ]
     },
     "execution_count": 85,
     "metadata": {},
     "output_type": "execute_result"
    }
   ],
   "source": [
    "# to know about how may data's are null in the dataframe\n",
    "\n",
    "df.isnull().sum()"
   ]
  },
  {
   "cell_type": "code",
   "execution_count": 86,
   "id": "fbd28847",
   "metadata": {},
   "outputs": [],
   "source": [
    "# Importing label encoder \n",
    "from sklearn import preprocessing \n",
    "\n",
    "# Creating label encoder object\n",
    "label_encoder = preprocessing.LabelEncoder() "
   ]
  },
  {
   "cell_type": "code",
   "execution_count": 87,
   "id": "113fc903",
   "metadata": {},
   "outputs": [],
   "source": [
    "df1= df.copy()"
   ]
  },
  {
   "cell_type": "code",
   "execution_count": 88,
   "id": "ce82230e",
   "metadata": {},
   "outputs": [],
   "source": [
    "# Converting the Gender Categorical column to Numerical\n",
    "\n",
    "df1['Gender']= label_encoder.fit_transform(df1['Gender']) "
   ]
  },
  {
   "cell_type": "code",
   "execution_count": 89,
   "id": "35671bb4",
   "metadata": {},
   "outputs": [
    {
     "data": {
      "text/plain": [
       "0    510\n",
       "1    490\n",
       "Name: Gender, dtype: int64"
      ]
     },
     "execution_count": 89,
     "metadata": {},
     "output_type": "execute_result"
    }
   ],
   "source": [
    "df1['Gender'].value_counts()"
   ]
  },
  {
   "cell_type": "code",
   "execution_count": 90,
   "id": "59150b7e",
   "metadata": {},
   "outputs": [],
   "source": [
    "# Converting the Has Diabetes Categorical column to Numerical\n",
    "\n",
    "df1['Has Diabetes']= label_encoder.fit_transform(df1['Has Diabetes']) "
   ]
  },
  {
   "cell_type": "code",
   "execution_count": 91,
   "id": "ec09cf7b",
   "metadata": {},
   "outputs": [
    {
     "data": {
      "text/plain": [
       "1    517\n",
       "0    483\n",
       "Name: Has Diabetes, dtype: int64"
      ]
     },
     "execution_count": 91,
     "metadata": {},
     "output_type": "execute_result"
    }
   ],
   "source": [
    "df1['Has Diabetes'].value_counts()"
   ]
  },
  {
   "cell_type": "code",
   "execution_count": 92,
   "id": "80241669",
   "metadata": {},
   "outputs": [],
   "source": [
    "# Converting the Smoking Status Categorical column to Numerical\n",
    "\n",
    "df1['Smoking Status']= label_encoder.fit_transform(df1['Smoking Status']) "
   ]
  },
  {
   "cell_type": "code",
   "execution_count": 93,
   "id": "0f2e57b9",
   "metadata": {},
   "outputs": [
    {
     "data": {
      "text/plain": [
       "2    352\n",
       "0    325\n",
       "1    323\n",
       "Name: Smoking Status, dtype: int64"
      ]
     },
     "execution_count": 93,
     "metadata": {},
     "output_type": "execute_result"
    }
   ],
   "source": [
    "df1['Smoking Status'].value_counts()"
   ]
  },
  {
   "cell_type": "code",
   "execution_count": 94,
   "id": "2ee7824c",
   "metadata": {},
   "outputs": [],
   "source": [
    "# Converting the Chest Paint Type Categorical column to Numerical\n",
    "\n",
    "df1['Chest Pain Type']= label_encoder.fit_transform(df1['Chest Pain Type']) "
   ]
  },
  {
   "cell_type": "code",
   "execution_count": 95,
   "id": "4b2ef3c6",
   "metadata": {},
   "outputs": [
    {
     "data": {
      "text/plain": [
       "2    261\n",
       "0    255\n",
       "3    243\n",
       "1    241\n",
       "Name: Chest Pain Type, dtype: int64"
      ]
     },
     "execution_count": 95,
     "metadata": {},
     "output_type": "execute_result"
    }
   ],
   "source": [
    "df1['Chest Pain Type'].value_counts()"
   ]
  },
  {
   "cell_type": "code",
   "execution_count": 96,
   "id": "e4f2103e",
   "metadata": {},
   "outputs": [],
   "source": [
    "# Converting the Treatment Categorical column to Numerical\n",
    "\n",
    "df1['Treatment']= label_encoder.fit_transform(df1['Treatment']) "
   ]
  },
  {
   "cell_type": "code",
   "execution_count": 97,
   "id": "dcfb7deb",
   "metadata": {},
   "outputs": [
    {
     "data": {
      "text/plain": [
       "2    269\n",
       "1    252\n",
       "0    247\n",
       "3    232\n",
       "Name: Treatment, dtype: int64"
      ]
     },
     "execution_count": 97,
     "metadata": {},
     "output_type": "execute_result"
    }
   ],
   "source": [
    "df1['Treatment'].value_counts()"
   ]
  },
  {
   "cell_type": "code",
   "execution_count": 98,
   "id": "48007aac",
   "metadata": {},
   "outputs": [
    {
     "data": {
      "text/plain": [
       "Gender                   int32\n",
       "Age                      int64\n",
       "Blood Pressure (mmHg)    int64\n",
       "Cholesterol (mg/dL)      int64\n",
       "Has Diabetes             int32\n",
       "Smoking Status           int32\n",
       "Chest Pain Type          int32\n",
       "Treatment                int32\n",
       "dtype: object"
      ]
     },
     "execution_count": 98,
     "metadata": {},
     "output_type": "execute_result"
    }
   ],
   "source": [
    "df1.dtypes"
   ]
  },
  {
   "cell_type": "markdown",
   "id": "87c6664e",
   "metadata": {},
   "source": [
    "#### We can observe form above that all the 5 Categorical Column are transformed into numerical column."
   ]
  },
  {
   "cell_type": "code",
   "execution_count": 99,
   "id": "3d341454",
   "metadata": {},
   "outputs": [
    {
     "data": {
      "text/html": [
       "<div>\n",
       "<style scoped>\n",
       "    .dataframe tbody tr th:only-of-type {\n",
       "        vertical-align: middle;\n",
       "    }\n",
       "\n",
       "    .dataframe tbody tr th {\n",
       "        vertical-align: top;\n",
       "    }\n",
       "\n",
       "    .dataframe thead th {\n",
       "        text-align: right;\n",
       "    }\n",
       "</style>\n",
       "<table border=\"1\" class=\"dataframe\">\n",
       "  <thead>\n",
       "    <tr style=\"text-align: right;\">\n",
       "      <th></th>\n",
       "      <th>Gender</th>\n",
       "      <th>Age</th>\n",
       "      <th>Blood Pressure (mmHg)</th>\n",
       "      <th>Cholesterol (mg/dL)</th>\n",
       "      <th>Has Diabetes</th>\n",
       "      <th>Smoking Status</th>\n",
       "      <th>Chest Pain Type</th>\n",
       "      <th>Treatment</th>\n",
       "    </tr>\n",
       "  </thead>\n",
       "  <tbody>\n",
       "    <tr>\n",
       "      <th>0</th>\n",
       "      <td>1</td>\n",
       "      <td>70</td>\n",
       "      <td>181</td>\n",
       "      <td>262</td>\n",
       "      <td>0</td>\n",
       "      <td>2</td>\n",
       "      <td>3</td>\n",
       "      <td>2</td>\n",
       "    </tr>\n",
       "    <tr>\n",
       "      <th>1</th>\n",
       "      <td>0</td>\n",
       "      <td>55</td>\n",
       "      <td>103</td>\n",
       "      <td>253</td>\n",
       "      <td>1</td>\n",
       "      <td>2</td>\n",
       "      <td>1</td>\n",
       "      <td>0</td>\n",
       "    </tr>\n",
       "    <tr>\n",
       "      <th>2</th>\n",
       "      <td>1</td>\n",
       "      <td>42</td>\n",
       "      <td>95</td>\n",
       "      <td>295</td>\n",
       "      <td>1</td>\n",
       "      <td>0</td>\n",
       "      <td>3</td>\n",
       "      <td>0</td>\n",
       "    </tr>\n",
       "    <tr>\n",
       "      <th>3</th>\n",
       "      <td>1</td>\n",
       "      <td>84</td>\n",
       "      <td>106</td>\n",
       "      <td>270</td>\n",
       "      <td>0</td>\n",
       "      <td>2</td>\n",
       "      <td>1</td>\n",
       "      <td>1</td>\n",
       "    </tr>\n",
       "    <tr>\n",
       "      <th>4</th>\n",
       "      <td>1</td>\n",
       "      <td>86</td>\n",
       "      <td>187</td>\n",
       "      <td>296</td>\n",
       "      <td>1</td>\n",
       "      <td>0</td>\n",
       "      <td>2</td>\n",
       "      <td>3</td>\n",
       "    </tr>\n",
       "    <tr>\n",
       "      <th>5</th>\n",
       "      <td>0</td>\n",
       "      <td>66</td>\n",
       "      <td>125</td>\n",
       "      <td>271</td>\n",
       "      <td>1</td>\n",
       "      <td>1</td>\n",
       "      <td>3</td>\n",
       "      <td>1</td>\n",
       "    </tr>\n",
       "    <tr>\n",
       "      <th>6</th>\n",
       "      <td>1</td>\n",
       "      <td>33</td>\n",
       "      <td>181</td>\n",
       "      <td>262</td>\n",
       "      <td>1</td>\n",
       "      <td>0</td>\n",
       "      <td>0</td>\n",
       "      <td>2</td>\n",
       "    </tr>\n",
       "    <tr>\n",
       "      <th>7</th>\n",
       "      <td>1</td>\n",
       "      <td>84</td>\n",
       "      <td>182</td>\n",
       "      <td>288</td>\n",
       "      <td>0</td>\n",
       "      <td>0</td>\n",
       "      <td>2</td>\n",
       "      <td>2</td>\n",
       "    </tr>\n",
       "    <tr>\n",
       "      <th>8</th>\n",
       "      <td>1</td>\n",
       "      <td>73</td>\n",
       "      <td>115</td>\n",
       "      <td>286</td>\n",
       "      <td>1</td>\n",
       "      <td>2</td>\n",
       "      <td>0</td>\n",
       "      <td>0</td>\n",
       "    </tr>\n",
       "    <tr>\n",
       "      <th>9</th>\n",
       "      <td>0</td>\n",
       "      <td>63</td>\n",
       "      <td>174</td>\n",
       "      <td>254</td>\n",
       "      <td>1</td>\n",
       "      <td>1</td>\n",
       "      <td>2</td>\n",
       "      <td>0</td>\n",
       "    </tr>\n",
       "  </tbody>\n",
       "</table>\n",
       "</div>"
      ],
      "text/plain": [
       "   Gender  Age  Blood Pressure (mmHg)  Cholesterol (mg/dL)  Has Diabetes  \\\n",
       "0       1   70                    181                  262             0   \n",
       "1       0   55                    103                  253             1   \n",
       "2       1   42                     95                  295             1   \n",
       "3       1   84                    106                  270             0   \n",
       "4       1   86                    187                  296             1   \n",
       "5       0   66                    125                  271             1   \n",
       "6       1   33                    181                  262             1   \n",
       "7       1   84                    182                  288             0   \n",
       "8       1   73                    115                  286             1   \n",
       "9       0   63                    174                  254             1   \n",
       "\n",
       "   Smoking Status  Chest Pain Type  Treatment  \n",
       "0               2                3          2  \n",
       "1               2                1          0  \n",
       "2               0                3          0  \n",
       "3               2                1          1  \n",
       "4               0                2          3  \n",
       "5               1                3          1  \n",
       "6               0                0          2  \n",
       "7               0                2          2  \n",
       "8               2                0          0  \n",
       "9               1                2          0  "
      ]
     },
     "execution_count": 99,
     "metadata": {},
     "output_type": "execute_result"
    }
   ],
   "source": [
    "df1.head(10)"
   ]
  },
  {
   "cell_type": "markdown",
   "id": "9f6efb46",
   "metadata": {},
   "source": [
    "### Data Normalization"
   ]
  },
  {
   "cell_type": "markdown",
   "id": "efd088ae",
   "metadata": {},
   "source": [
    "From the above we can observe that if we wish we can perform Normalisation on columns Age, Blood Pressure(mmHg), Cholesterol(mg/dL)"
   ]
  },
  {
   "cell_type": "code",
   "execution_count": 100,
   "id": "ea86fb28",
   "metadata": {},
   "outputs": [],
   "source": [
    "# Importing requried library for Normalisation\n",
    "\n",
    "from sklearn.preprocessing import StandardScaler\n",
    "scaler = StandardScaler()"
   ]
  },
  {
   "cell_type": "code",
   "execution_count": 102,
   "id": "d7938ebf",
   "metadata": {},
   "outputs": [],
   "source": [
    "# Performing Normalisation on Age, Blood Pressure and Cholesterol Column\n",
    "\n",
    "df2=df1.copy()\n",
    "df2[['Age', 'Blood Pressure (mmHg)','Cholesterol (mg/dL)']] = scaler.fit_transform(df2[['Age', 'Blood Pressure (mmHg)','Cholesterol (mg/dL)']])"
   ]
  },
  {
   "cell_type": "code",
   "execution_count": 104,
   "id": "aaf2379f",
   "metadata": {},
   "outputs": [
    {
     "data": {
      "text/html": [
       "<div>\n",
       "<style scoped>\n",
       "    .dataframe tbody tr th:only-of-type {\n",
       "        vertical-align: middle;\n",
       "    }\n",
       "\n",
       "    .dataframe tbody tr th {\n",
       "        vertical-align: top;\n",
       "    }\n",
       "\n",
       "    .dataframe thead th {\n",
       "        text-align: right;\n",
       "    }\n",
       "</style>\n",
       "<table border=\"1\" class=\"dataframe\">\n",
       "  <thead>\n",
       "    <tr style=\"text-align: right;\">\n",
       "      <th></th>\n",
       "      <th>Gender</th>\n",
       "      <th>Age</th>\n",
       "      <th>Blood Pressure (mmHg)</th>\n",
       "      <th>Cholesterol (mg/dL)</th>\n",
       "      <th>Has Diabetes</th>\n",
       "      <th>Smoking Status</th>\n",
       "      <th>Chest Pain Type</th>\n",
       "      <th>Treatment</th>\n",
       "    </tr>\n",
       "  </thead>\n",
       "  <tbody>\n",
       "    <tr>\n",
       "      <th>0</th>\n",
       "      <td>1</td>\n",
       "      <td>0.558212</td>\n",
       "      <td>1.120330</td>\n",
       "      <td>0.893481</td>\n",
       "      <td>0</td>\n",
       "      <td>2</td>\n",
       "      <td>3</td>\n",
       "      <td>2</td>\n",
       "    </tr>\n",
       "    <tr>\n",
       "      <th>1</th>\n",
       "      <td>0</td>\n",
       "      <td>-0.308397</td>\n",
       "      <td>-1.337087</td>\n",
       "      <td>0.683036</td>\n",
       "      <td>1</td>\n",
       "      <td>2</td>\n",
       "      <td>1</td>\n",
       "      <td>0</td>\n",
       "    </tr>\n",
       "    <tr>\n",
       "      <th>2</th>\n",
       "      <td>1</td>\n",
       "      <td>-1.059459</td>\n",
       "      <td>-1.589130</td>\n",
       "      <td>1.665115</td>\n",
       "      <td>1</td>\n",
       "      <td>0</td>\n",
       "      <td>3</td>\n",
       "      <td>0</td>\n",
       "    </tr>\n",
       "    <tr>\n",
       "      <th>3</th>\n",
       "      <td>1</td>\n",
       "      <td>1.367048</td>\n",
       "      <td>-1.242571</td>\n",
       "      <td>1.080544</td>\n",
       "      <td>0</td>\n",
       "      <td>2</td>\n",
       "      <td>1</td>\n",
       "      <td>1</td>\n",
       "    </tr>\n",
       "    <tr>\n",
       "      <th>4</th>\n",
       "      <td>1</td>\n",
       "      <td>1.482595</td>\n",
       "      <td>1.309362</td>\n",
       "      <td>1.688498</td>\n",
       "      <td>1</td>\n",
       "      <td>0</td>\n",
       "      <td>2</td>\n",
       "      <td>3</td>\n",
       "    </tr>\n",
       "    <tr>\n",
       "      <th>5</th>\n",
       "      <td>0</td>\n",
       "      <td>0.327116</td>\n",
       "      <td>-0.643969</td>\n",
       "      <td>1.103927</td>\n",
       "      <td>1</td>\n",
       "      <td>1</td>\n",
       "      <td>3</td>\n",
       "      <td>1</td>\n",
       "    </tr>\n",
       "    <tr>\n",
       "      <th>6</th>\n",
       "      <td>1</td>\n",
       "      <td>-1.579425</td>\n",
       "      <td>1.120330</td>\n",
       "      <td>0.893481</td>\n",
       "      <td>1</td>\n",
       "      <td>0</td>\n",
       "      <td>0</td>\n",
       "      <td>2</td>\n",
       "    </tr>\n",
       "    <tr>\n",
       "      <th>7</th>\n",
       "      <td>1</td>\n",
       "      <td>1.367048</td>\n",
       "      <td>1.151836</td>\n",
       "      <td>1.501435</td>\n",
       "      <td>0</td>\n",
       "      <td>0</td>\n",
       "      <td>2</td>\n",
       "      <td>2</td>\n",
       "    </tr>\n",
       "    <tr>\n",
       "      <th>8</th>\n",
       "      <td>1</td>\n",
       "      <td>0.731534</td>\n",
       "      <td>-0.959023</td>\n",
       "      <td>1.454669</td>\n",
       "      <td>1</td>\n",
       "      <td>2</td>\n",
       "      <td>0</td>\n",
       "      <td>0</td>\n",
       "    </tr>\n",
       "    <tr>\n",
       "      <th>9</th>\n",
       "      <td>0</td>\n",
       "      <td>0.153794</td>\n",
       "      <td>0.899793</td>\n",
       "      <td>0.706419</td>\n",
       "      <td>1</td>\n",
       "      <td>1</td>\n",
       "      <td>2</td>\n",
       "      <td>0</td>\n",
       "    </tr>\n",
       "  </tbody>\n",
       "</table>\n",
       "</div>"
      ],
      "text/plain": [
       "   Gender       Age  Blood Pressure (mmHg)  Cholesterol (mg/dL)  Has Diabetes  \\\n",
       "0       1  0.558212               1.120330             0.893481             0   \n",
       "1       0 -0.308397              -1.337087             0.683036             1   \n",
       "2       1 -1.059459              -1.589130             1.665115             1   \n",
       "3       1  1.367048              -1.242571             1.080544             0   \n",
       "4       1  1.482595               1.309362             1.688498             1   \n",
       "5       0  0.327116              -0.643969             1.103927             1   \n",
       "6       1 -1.579425               1.120330             0.893481             1   \n",
       "7       1  1.367048               1.151836             1.501435             0   \n",
       "8       1  0.731534              -0.959023             1.454669             1   \n",
       "9       0  0.153794               0.899793             0.706419             1   \n",
       "\n",
       "   Smoking Status  Chest Pain Type  Treatment  \n",
       "0               2                3          2  \n",
       "1               2                1          0  \n",
       "2               0                3          0  \n",
       "3               2                1          1  \n",
       "4               0                2          3  \n",
       "5               1                3          1  \n",
       "6               0                0          2  \n",
       "7               0                2          2  \n",
       "8               2                0          0  \n",
       "9               1                2          0  "
      ]
     },
     "execution_count": 104,
     "metadata": {},
     "output_type": "execute_result"
    }
   ],
   "source": [
    "df2.head(10)"
   ]
  },
  {
   "cell_type": "markdown",
   "id": "3e27d8da",
   "metadata": {},
   "source": [
    "### Data Visualization"
   ]
  },
  {
   "cell_type": "code",
   "execution_count": null,
   "id": "1a885cc7",
   "metadata": {},
   "outputs": [],
   "source": [
    "genderCount\n",
    "hasDiabetesCount\n",
    "hasSomkingHabitCount\n",
    "hasChestPainCount\n",
    "hasTreatmentCount"
   ]
  },
  {
   "cell_type": "code",
   "execution_count": 114,
   "id": "56a850a2",
   "metadata": {},
   "outputs": [
    {
     "data": {
      "image/png": "[encoded data removed]",
      "text/plain": [
       "<Figure size 640x480 with 1 Axes>"
      ]
     },
     "metadata": {},
     "output_type": "display_data"
    }
   ],
   "source": [
    "# Plotting the bar chart\n",
    "\n",
    "plt.bar(genderCount.index,genderCount.values, color=['pink', 'lightgreen'])\n",
    "plt.title('Males v/s Females')\n",
    "plt.xlabel('Gender')\n",
    "plt.ylabel('Count')\n",
    "plt.show()"
   ]
  },
  {
   "cell_type": "code",
   "execution_count": 118,
   "id": "0e2aa7ba",
   "metadata": {},
   "outputs": [
    {
     "data": {
      "image/png": "[encoded data removed]",
      "text/plain": [
       "<Figure size 640x480 with 1 Axes>"
      ]
     },
     "metadata": {},
     "output_type": "display_data"
    }
   ],
   "source": [
    "# Plotting the bar chart\n",
    "\n",
    "plt.bar(hasDiabetesCount.index,hasDiabetesCount.values, color=['lightblue', 'lightcoral'])\n",
    "plt.title('Comparison of how many Person has Diabetes')\n",
    "plt.xlabel('Has Diabetes')\n",
    "plt.ylabel('Count')\n",
    "plt.show()"
   ]
  },
  {
   "cell_type": "code",
   "execution_count": 120,
   "id": "25c73342",
   "metadata": {},
   "outputs": [
    {
     "data": {
      "image/png": "[encoded data removed]",
      "text/plain": [
       "<Figure size 640x480 with 1 Axes>"
      ]
     },
     "metadata": {},
     "output_type": "display_data"
    }
   ],
   "source": [
    "# Plotting the bar chart\n",
    "\n",
    "plt.bar(hasChestPainCount.index,hasChestPainCount.values, color=['orange', 'cyan','red','gold'])\n",
    "plt.title('Comparison of how many Person has Chest Pain')\n",
    "plt.xlabel('Has Chest Pain')\n",
    "plt.ylabel('Count')\n",
    "plt.show()"
   ]
  },
  {
   "cell_type": "code",
   "execution_count": null,
   "id": "5f944e99",
   "metadata": {},
   "outputs": [],
   "source": [
    "# Plotting the bar chart\n",
    "\n",
    "plt.bar(hasSomkingHabitCount.index,hasSomkingHabitCount.values, color=['orange', 'cyan','red','gold'])\n",
    "plt.title('Comparison of how many Person Has Somking Habit')\n",
    "plt.xlabel('Has Somking Habit')\n",
    "plt.ylabel('Count')\n",
    "plt.show()"
   ]
  }
 ],
 "metadata": {
  "kernelspec": {
   "display_name": "Python 3 (ipykernel)",
   "language": "python",
   "name": "python3"
  },
  "language_info": {
   "codemirror_mode": {
    "name": "ipython",
    "version": 3
   },
   "file_extension": ".py",
   "mimetype": "text/x-python",
   "name": "python",
   "nbconvert_exporter": "python",
   "pygments_lexer": "ipython3",
   "version": "3.9.1"
  }
 },
 "nbformat": 4,
 "nbformat_minor": 5
}
